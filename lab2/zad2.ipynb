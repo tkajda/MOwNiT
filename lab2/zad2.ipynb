{
 "cells": [
  {
   "cell_type": "code",
   "execution_count": 169,
   "metadata": {},
   "outputs": [],
   "source": [
    "import numpy as np\n",
    "from scipy.linalg import lu\n",
    "from copy import deepcopy"
   ]
  },
  {
   "cell_type": "code",
   "execution_count": 171,
   "metadata": {},
   "outputs": [
    {
     "name": "stdout",
     "output_type": "stream",
     "text": [
      "ok\n"
     ]
    }
   ],
   "source": [
    "\n",
    "\n",
    "def LUinsitu(matrix):\n",
    "    A = matrix.copy()\n",
    "    \n",
    "    matrix = matrix.astype('float64')\n",
    "    \n",
    "    n = len(matrix)\n",
    "\n",
    "    def LU():\n",
    "        for i in range(n):\n",
    "\n",
    "            for row in range(i+1,n):\n",
    "                factor = matrix[row,i]/matrix[i,i]\n",
    "                for col in range(i, n):\n",
    "                    matrix[row,col] -= (matrix[i,col]*factor)\n",
    "                matrix[row,i] = factor\n",
    "\n",
    "        return np.tril(matrix, -1) + np.eye(matrix.shape[0]), np.triu(matrix)\n",
    "\n",
    "\n",
    "    def test():\n",
    "\n",
    "        L, U = LU()\n",
    "\n",
    "        assert np.linalg.norm(np.subtract(A, np.matmul(L,U))) < 10e-6\n",
    "\n",
    "\n",
    "        P, L1, U1 = lu(A)\n",
    "\n",
    "        res1 = np.matmul(np.matmul(P,L1), U1)\n",
    "        res2 = np.matmul(L,U)\n",
    "\n",
    "        assert (np.allclose(res1,res2,atol=10e-6) and np.allclose(res2,A,atol=10e-6) \\\n",
    "            and np.allclose(res1, A,atol=10e-6))\n",
    "        \n",
    "\n",
    "    test()\n",
    "    print('ok')\n",
    "\n",
    "\n",
    "    \n",
    "A = np.array([[1, 6, 6, 3, 4],\n",
    "        [2, 4, 4, 6, 4],\n",
    "        [2, 5, 1, 5, 1],\n",
    "        [6, 5, 2, 5, 4],\n",
    "        [5, 3, 2, 6, 2]])\n",
    "\n",
    "\n",
    "\n",
    "LUinsitu(A)\n",
    "\n",
    "\n",
    "\n"
   ]
  }
 ],
 "metadata": {
  "interpreter": {
   "hash": "cc5f70855ac006f3de45a3cc3b9e7d8d53845e50458809cb162b0174266dec97"
  },
  "kernelspec": {
   "display_name": "Python 3.9.7 ('base')",
   "language": "python",
   "name": "python3"
  },
  "language_info": {
   "codemirror_mode": {
    "name": "ipython",
    "version": 3
   },
   "file_extension": ".py",
   "mimetype": "text/x-python",
   "name": "python",
   "nbconvert_exporter": "python",
   "pygments_lexer": "ipython3",
   "version": "3.9.7"
  },
  "orig_nbformat": 4
 },
 "nbformat": 4,
 "nbformat_minor": 2
}
