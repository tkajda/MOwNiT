{
 "cells": [
  {
   "cell_type": "markdown",
   "metadata": {},
   "source": [
    "Zadanie 2"
   ]
  },
  {
   "cell_type": "code",
   "execution_count": 3,
   "metadata": {},
   "outputs": [],
   "source": [
    "import numpy as np\n",
    "from scipy.linalg import lu\n",
    "from copy import deepcopy"
   ]
  },
  {
   "cell_type": "code",
   "execution_count": 7,
   "metadata": {},
   "outputs": [
    {
     "name": "stdout",
     "output_type": "stream",
     "text": [
      "L= [[1.         0.         0.         0.         0.        ]\n",
      " [2.         1.         0.         0.         0.        ]\n",
      " [2.         0.875      1.         0.         0.        ]\n",
      " [6.         3.875      0.75       1.         0.        ]\n",
      " [5.         3.375      0.25       0.71428571 1.        ]]\n",
      "U= [[  1.           6.           6.           3.           4.        ]\n",
      " [  0.          -8.          -8.           0.          -4.        ]\n",
      " [  0.           0.          -4.          -1.          -3.5       ]\n",
      " [  0.           0.           0.         -12.25        -1.875     ]\n",
      " [  0.           0.           0.           0.          -2.28571429]]\n",
      "ok\n",
      "L= [[ 1.          0.          0.        ]\n",
      " [ 0.2         1.          0.        ]\n",
      " [ 0.6        -1.28571429  1.        ]]\n",
      "U= [[ 5.          3.          2.        ]\n",
      " [ 0.          1.4        -0.4       ]\n",
      " [ 0.          0.          2.28571429]]\n",
      "ok\n"
     ]
    }
   ],
   "source": [
    "\n",
    "\n",
    "def LU(matrix):\n",
    "    A = matrix.copy()\n",
    "    \n",
    "    matrix = matrix.astype('float64')\n",
    "    \n",
    "    n = len(matrix)\n",
    "\n",
    "    def LUinsitu():\n",
    "        for i in range(n):\n",
    "\n",
    "            for row in range(i+1,n):\n",
    "                factor = matrix[row,i]/matrix[i,i]\n",
    "                for col in range(i, n):\n",
    "                    matrix[row,col] -= (matrix[i,col]*factor)\n",
    "                matrix[row,i] = factor\n",
    "\n",
    "        return np.tril(matrix, -1) + np.eye(matrix.shape[0]), np.triu(matrix)\n",
    "\n",
    "\n",
    "    def test():\n",
    "\n",
    "        L, U = LUinsitu()\n",
    "        print(\"L=\", L)\n",
    "        print(\"U=\", U)\n",
    "\n",
    "        assert np.linalg.norm(np.subtract(A, np.matmul(L,U))) < 10e-6\n",
    "\n",
    "\n",
    "        P, L1, U1 = lu(A)\n",
    "\n",
    "        res1 = np.matmul(np.matmul(P,L1), U1)\n",
    "        res2 = np.matmul(L,U)\n",
    "\n",
    "        assert (np.allclose(res1,res2,atol=10e-6) and np.allclose(res2,A,atol=10e-6) \\\n",
    "            and np.allclose(res1, A,atol=10e-6))\n",
    "        \n",
    "\n",
    "    test()\n",
    "    print('ok')\n",
    "\n",
    "\n",
    "    \n",
    "A = np.array([[1, 6, 6, 3, 4],\n",
    "        [2, 4, 4, 6, 4],\n",
    "        [2, 5, 1, 5, 1],\n",
    "        [6, 5, 2, 5, 4],\n",
    "        [5, 3, 2, 6, 2]])\n",
    "\n",
    "    \n",
    "B = np.array([[5,3,2],\n",
    "            [1,2,0],\n",
    "            [3,0,4]])\n",
    "\n",
    "LU(A)\n",
    "LU(B)\n",
    "\n",
    "\n",
    "\n"
   ]
  },
  {
   "cell_type": "markdown",
   "metadata": {},
   "source": [
    "Faktoryzacja LU,tzn przedstawienie macierzy wejściowej za pomocą iloczynu macierzy L oraz U, w miejscu polega znalezieniu współczynnika (element [i][i]/element[i+x][i] dla x = {i+1...n}), który zeruje wyraz w kolumnie, a następnie zastosowanie tego samego współczynnika dla kolejnych kolumn oraz odpowiednich wierszy.\n",
    "Współczynnik ten stanowi wartość elementu [i+x][i] w macierzy L, a powyższe działanie pozwala na utworzenie elementów macierzy U, Wynika to z własności iloczynu macierzy.\n",
    "Wynik powyższego algorytmu sprawdzam za pomocą funkcji biblioteki scipy.math.lu()."
   ]
  }
 ],
 "metadata": {
  "interpreter": {
   "hash": "cc5f70855ac006f3de45a3cc3b9e7d8d53845e50458809cb162b0174266dec97"
  },
  "kernelspec": {
   "display_name": "Python 3.9.7 ('base')",
   "language": "python",
   "name": "python3"
  },
  "language_info": {
   "codemirror_mode": {
    "name": "ipython",
    "version": 3
   },
   "file_extension": ".py",
   "mimetype": "text/x-python",
   "name": "python",
   "nbconvert_exporter": "python",
   "pygments_lexer": "ipython3",
   "version": "3.9.7"
  },
  "orig_nbformat": 4
 },
 "nbformat": 4,
 "nbformat_minor": 2
}
