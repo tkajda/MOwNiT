{
 "cells": [
  {
   "cell_type": "markdown",
   "metadata": {},
   "source": [
    "Zadanie 1"
   ]
  },
  {
   "cell_type": "code",
   "execution_count": 1,
   "metadata": {},
   "outputs": [],
   "source": [
    "import matplotlib.pyplot as plt\n",
    "import time "
   ]
  },
  {
   "cell_type": "code",
   "execution_count": 2,
   "metadata": {},
   "outputs": [],
   "source": [
    "v = 0.5312511\n",
    "n = 10000000 #10**7\n",
    "correctSum = n*v\n",
    "\n",
    "T = [v for _ in range(n)]"
   ]
  },
  {
   "cell_type": "code",
   "execution_count": 3,
   "metadata": {},
   "outputs": [],
   "source": [
    "def calculate_errors(predictedValue, correctValue):\n",
    "    absoluteErr = abs(predictedValue - correctValue)\n",
    "    relativeErr = absoluteErr / correctValue\n",
    "\n",
    "    return absoluteErr, relativeErr"
   ]
  },
  {
   "cell_type": "code",
   "execution_count": 4,
   "metadata": {},
   "outputs": [],
   "source": [
    "def simpleSum(T):\n",
    "    sumT = 0\n",
    "\n",
    "    absoluteErr = 0\n",
    "    relativeErr = 0\n",
    "\n",
    "    plotArr = []\n",
    "\n",
    "    for i in range(len(T)):\n",
    "\n",
    "        sumT += T[i]\n",
    "\n",
    "        # reports values of errors every 25000 iterations\n",
    "        if ((i + 1) % 25000 == 0):\n",
    "            correctVal = (i+1) * v\n",
    "\n",
    "            x = calculate_errors(sumT, correctVal)\n",
    "            absoluteErr = x[0] \n",
    "            relativeErr = x[1]\n",
    "\n",
    "            plotArr.append(relativeErr*100)\n",
    "\n",
    "\n",
    "    plt.plot(plotArr)\n",
    "    plt.title(\"Relative Error\")\n",
    "    plt.show()\n",
    "    return sumT"
   ]
  },
  {
   "cell_type": "code",
   "execution_count": 5,
   "metadata": {},
   "outputs": [],
   "source": [
    "def rec(T, p, r):\n",
    "\n",
    "    if p > r:\n",
    "        return 0\n",
    "    if p == r:\n",
    "        return T[p]\n",
    "    return rec(T, p, p + (r-p) // 2) + rec(T, p + (r-p) // 2+1, r)\n",
    "\n",
    "def calcSumRecursivly(T):\n",
    "    return rec(T,0, len(T)-1)"
   ]
  },
  {
   "cell_type": "code",
   "execution_count": 6,
   "metadata": {},
   "outputs": [
    {
     "name": "stdout",
     "output_type": "stream",
     "text": [
      "correct value= 5312511.0 \n",
      "\n"
     ]
    },
    {
     "data": {
      "image/png": "[encoded data removed]",
      "text/plain": [
       "<Figure size 432x288 with 1 Axes>"
      ]
     },
     "metadata": {
      "needs_background": "light"
     },
     "output_type": "display_data"
    },
    {
     "name": "stdout",
     "output_type": "stream",
     "text": [
      "simple summing time: 2.0490808486938477 \n",
      "\n",
      "recursive sum time: 4.574693918228149 \n",
      "\n",
      "iteration result= 5312510.99914665 \n",
      "errors (absolute, relative): (0.0008533503860235214, 1.606303282992772e-10) \n",
      "\n",
      "recursive result= 5312510.999999999 \n",
      "errors  (absolute, relative): (9.313225746154785e-10, 1.7530741576167627e-16) \n",
      "\n"
     ]
    }
   ],
   "source": [
    "def zad1():\n",
    "\n",
    "    print(\"correct value=\" , correctSum, \"\\n\")\n",
    "\n",
    "    start = time.time()\n",
    "    sumOfArr = simpleSum(T)\n",
    "    end = time.time()\n",
    "    print(\"simple summing time:\", end-start, \"\\n\")\n",
    "\n",
    "\n",
    "\n",
    "    start = time.time()\n",
    "    recSumOfArr = rec(T, 0, n-1)\n",
    "    end = time.time()\n",
    "    print(\"recursive sum time:\", end-start, \"\\n\")\n",
    "\n",
    "\n",
    "    print('iteration result=',sumOfArr, \"\\nerrors (absolute, relative):\", \\\n",
    "         calculate_errors(sumOfArr, correctSum), \"\\n\")\n",
    "\n",
    "    print('recursive result=',recSumOfArr, \"\\nerrors  (absolute, relative):\", \\\n",
    "          calculate_errors(recSumOfArr, correctSum), \"\\n\" )\n",
    "\n",
    "zad1()\n",
    "\n",
    "\n"
   ]
  },
  {
   "cell_type": "markdown",
   "metadata": {},
   "source": [
    "Błąd względny jest wynikiem sumy liczb zmiennoprzecinkowych. Powstaje przy przesunięciu wykładnika, czyli utracie prezycji. Na wykresie w znacznej przewadze błąd pomiędzy kolejnymi iteracjami jest większy, gdyż algorytm dodaje liczby o coraz większej różnicy. Wartości bliskie 0 występują kiedy oczekiwana wartość jest bliska wartości prawidłowej: \n",
    "    na początku wykresu - występnuje dodawanie liczb o takich samych wykładnikach\n",
    "    ok. pozycji 80*25000 - utrata precyzji jest niewielka\n",
    "    "
   ]
  },
  {
   "cell_type": "markdown",
   "metadata": {},
   "source": [
    "Rekurenycjny algorytm pomimo ponad dwuktronie dłuższego czasu wykonywania charakteryzuje się błędami bliskimi 0, o kilka rzędów mniejszymi, niż algorytm iteracyjny. Wynika to za faktu, iż algorytm rekurencyjny dodaje liczby o tym samym wykładniku. Pomimo tego dla v = 0.5312511 błąd względny nie jest równy 0"
   ]
  },
  {
   "cell_type": "markdown",
   "metadata": {},
   "source": [
    "Zadanie 2"
   ]
  },
  {
   "cell_type": "code",
   "execution_count": 7,
   "metadata": {},
   "outputs": [],
   "source": [
    "def KahansAlgorithm(T):\n",
    "    sum = 0.0\n",
    "    err = 0.0\n",
    "    for i in range(0, len(T)):\n",
    "        y = T[i] - err\n",
    "        temp = sum + y\n",
    "        err = (temp-sum) - y\n",
    "        sum = temp \n",
    "    return sum\n"
   ]
  },
  {
   "cell_type": "code",
   "execution_count": 8,
   "metadata": {},
   "outputs": [
    {
     "name": "stdout",
     "output_type": "stream",
     "text": [
      "kahan algorithm time:  1.3679590225219727 \n",
      "\n",
      "kahan result = 5312511.0 \n",
      "errors: (0.0, 0.0) \n",
      "\n"
     ]
    }
   ],
   "source": [
    "\n",
    "def kahan():\n",
    "    start = time.time()\n",
    "    kahanSum = KahansAlgorithm(T)\n",
    "    end = time.time()\n",
    "    print(\"kahan algorithm time: \", end - start, \"\\n\")\n",
    "\n",
    "\n",
    "    print('kahan result =', kahanSum,\"\\nerrors:\", \\\n",
    "         calculate_errors(kahanSum, correctSum), \"\\n\")\n",
    "\n",
    "kahan()\n"
   ]
  },
  {
   "cell_type": "markdown",
   "metadata": {},
   "source": [
    "Algorytm Kahana ma znacznie lepsze wartości numeryczne od dwóch powyższych algorytmów, gdyż uwzględnia ostatnie utracone niskie bity. Sum jest względnie większe od y, dlatego mniej znaczące bity liczby y zostają utracone. Zmienna err przechowuje je przechowuje, dzięki działaniu (temp-sum) odzyskane zostają wyższe bity, co po skorygowaniu o y powoduje odzyskanie utraconych informacji. W kolejnych iteracjach suma podlega korekcji o wartość err. \n",
    "Czas działania algorytmu Kahana jest porównywalny z prostym sumowaniem iteracyjnym, ponad dwukrotnie krótszy od algorytmu rekurencyjnego."
   ]
  }
 ],
 "metadata": {
  "interpreter": {
   "hash": "cc5f70855ac006f3de45a3cc3b9e7d8d53845e50458809cb162b0174266dec97"
  },
  "kernelspec": {
   "display_name": "Python 3.9.7 ('base')",
   "language": "python",
   "name": "python3"
  },
  "language_info": {
   "codemirror_mode": {
    "name": "ipython",
    "version": 3
   },
   "file_extension": ".py",
   "mimetype": "text/x-python",
   "name": "python",
   "nbconvert_exporter": "python",
   "pygments_lexer": "ipython3",
   "version": "3.9.7"
  },
  "orig_nbformat": 4
 },
 "nbformat": 4,
 "nbformat_minor": 2
}
