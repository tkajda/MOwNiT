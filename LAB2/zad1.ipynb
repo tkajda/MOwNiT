{
 "cells": [
  {
   "cell_type": "markdown",
   "metadata": {},
   "source": [
    "Zadanie 1"
   ]
  },
  {
   "cell_type": "code",
   "execution_count": 28,
   "metadata": {},
   "outputs": [],
   "source": [
    "import numpy as np\n",
    "from random import randint\n",
    "from time import time\n",
    "import matplotlib.pyplot as plt"
   ]
  },
  {
   "cell_type": "code",
   "execution_count": 29,
   "metadata": {},
   "outputs": [],
   "source": [
    "def scale(M):\n",
    "\n",
    "    n, m = M.shape\n",
    "\n",
    "    for i in range(n):\n",
    "        max_i = max(M[i], key=abs)\n",
    "        for j in range(m):\n",
    "            M[i][j] /= max_i            \n",
    "    \n",
    "    return M\n",
    "\n",
    "\n",
    "\n",
    "def solve(Matrix):\n",
    "    \n",
    "    Matrix = Matrix.astype('float64')\n",
    "\n",
    "    Matrix = scale(Matrix)\n",
    "\n",
    "    n = Matrix.shape[0]\n",
    "\n",
    "    for i in range(n):\n",
    "\n",
    "        #partial pivoting\n",
    "        maxi = i\n",
    "        for j in range(i,n):\n",
    "            if abs(Matrix[j,i]) > abs(Matrix[maxi,i]):\n",
    "                maxi = j\n",
    "        if i != maxi:\n",
    "            Matrix[maxi], Matrix[i] = Matrix[i], Matrix[maxi].copy()\n",
    "\n",
    "\n",
    "        #Gauss-Jordan\n",
    "        for j in range(n):\n",
    "            if i != j:\n",
    "                Matrix[j] -= (Matrix[j,i] / Matrix[i,i]) * Matrix[i]\n",
    "\n",
    "\n",
    "    A=Matrix[:,:-1]\n",
    "    B = Matrix[:,-1]\n",
    "\n",
    "    result = np.divide(B, np.diag(A))\n",
    "\n",
    "    for i in range(n):\n",
    "        if abs(result[i]) < 10e-9:\n",
    "            result[i] = 0\n",
    "\n",
    "    return result\n",
    "\n"
   ]
  },
  {
   "cell_type": "markdown",
   "metadata": {},
   "source": [
    "Przed przystąpieniem do metody Gaussa-Jordana macierz zostaje przeskalowana - każdy element każdego wiersza jest podzielony przez maksimum.\n",
    "W kolejnym kroku dla każdej kolumny znajduję element największy i zamiam wiersze, tak aby dla i-tego wiersza wystąpił max(i-tej kolumny) (partial pivoting). \n",
    "Metoda Gaussa-Jordana polega na wyzerowaniu wszystkich elementów w kolumnie, z wyjątkiem tego na diagonali - element[i][i]. Przed zwróceniem wyniku przybliżam wartości bliskie zero do 0, gdyż prawdopodobnie są one równe 0, lecz ich niedokładność może wynikać z działań na liczbach zmiennoprzecinkowych."
   ]
  },
  {
   "cell_type": "code",
   "execution_count": 30,
   "metadata": {},
   "outputs": [],
   "source": [
    "#solving with library function\n",
    "\n",
    "\n",
    "def solve_lib(Matrix):\n",
    "\n",
    "    A=Matrix[:,:-1]\n",
    "    B = Matrix[:,-1]\n",
    "    \n",
    "    result = np.linalg.solve(A,B)\n",
    "    return result\n",
    "\n",
    "def compare_results(result1, result2):\n",
    "    if len(result2)!=len(result1):\n",
    "        return False\n",
    "\n",
    "    return np.allclose(result1,result2)\n",
    "\n"
   ]
  },
  {
   "cell_type": "code",
   "execution_count": 31,
   "metadata": {},
   "outputs": [],
   "source": [
    "\n",
    "\n",
    "def generate_random_matrix(n):\n",
    "    matrix = [[randint(0,100) for _ in range(n)] for _ in range(n-1)]\n",
    "    return np.asarray(matrix)\n",
    "\n",
    "\n",
    "\n",
    "\n",
    "def calc_time(func):\n",
    "    start = time()\n",
    "    res = func()\n",
    "    end = time()\n",
    "    return end-start, res\n",
    "\n",
    "def compare_results(result1, result2):\n",
    "    if len(result2)!=len(result1):\n",
    "        return False\n",
    "    return np.allclose(result1,result2)\n",
    "\n",
    "\n",
    "if __name__==\"__main__\":\n",
    "\n",
    "    n = 10\n",
    "    size = 501\n",
    "    step = 20\n",
    "    i = 0\n",
    "\n",
    "    sizes = []\n",
    "    time_lib = []\n",
    "    time_manual = []\n",
    "\n",
    "\n",
    "    while( i < n):\n",
    "\n",
    "        A = generate_random_matrix(size)\n",
    "        time1, res1 =calc_time(lambda: solve(A))\n",
    "        time2, res2 =calc_time(lambda: solve_lib(A))\n",
    "\n",
    "        if not compare_results(res1,res2):\n",
    "            raise Exception(\"results are not equal\")\n",
    "            \n",
    "        time_manual.append(time1)\n",
    "        time_lib.append(time2)\n",
    "\n",
    "        sizes.append(size)\n",
    "\n",
    "        size += step\n",
    "        i += 1\n",
    "\n",
    "\n",
    "\n"
   ]
  },
  {
   "cell_type": "code",
   "execution_count": 32,
   "metadata": {},
   "outputs": [
    {
     "data": {
      "image/png": "[encoded data removed]",
      "text/plain": [
       "<Figure size 432x288 with 1 Axes>"
      ]
     },
     "metadata": {
      "needs_background": "light"
     },
     "output_type": "display_data"
    }
   ],
   "source": [
    "\n",
    "plt.plot(sizes,time_lib, color='r',linewidth=0,label='library', marker='.')\n",
    "plt.plot(sizes,time_manual, color='b',linewidth=0,label='gauss jordan', marker='.')\n",
    "plt.yscale('log')\n",
    "plt.title('Time comparison')\n",
    "plt.xlabel('n')\n",
    "plt.ylabel('log10(time)')\n",
    "plt.legend()\n",
    "plt.show()"
   ]
  },
  {
   "cell_type": "markdown",
   "metadata": {},
   "source": [
    "Wykonuję algorytm dla 10 macierzy rzędu 501 do 681. Przy sprawdzaniu poprawności otrzymanego rezultatu, porównuję go z funkcją biblioteczną numpy.linalg.solve(). \n",
    "Wykres przedstawia porównanie czasu rozwiązywania układu równań metodą Gaussa-Jordana oraz wyżej wymienionej funkcji. Czasy różnią się o kilka rzędów wielkości na korzyść funkcji bibliotecznej.\n",
    "W przypadku porównywania czasów wybranej funkcji w zależności od n, ta różnica nie jest już tak znacząca.\n"
   ]
  }
 ],
 "metadata": {
  "interpreter": {
   "hash": "cc5f70855ac006f3de45a3cc3b9e7d8d53845e50458809cb162b0174266dec97"
  },
  "kernelspec": {
   "display_name": "Python 3.9.7 ('base')",
   "language": "python",
   "name": "python3"
  },
  "language_info": {
   "codemirror_mode": {
    "name": "ipython",
    "version": 3
   },
   "file_extension": ".py",
   "mimetype": "text/x-python",
   "name": "python",
   "nbconvert_exporter": "python",
   "pygments_lexer": "ipython3",
   "version": "3.9.7"
  },
  "orig_nbformat": 4
 },
 "nbformat": 4,
 "nbformat_minor": 2
}
