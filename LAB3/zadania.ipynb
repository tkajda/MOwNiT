{
 "cells": [
  {
   "cell_type": "code",
   "execution_count": 113,
   "metadata": {},
   "outputs": [
    {
     "name": "stdout",
     "output_type": "stream",
     "text": [
      "(4.724660826322045, 32)\n",
      "(1.4999999995343387, 32)\n"
     ]
    }
   ],
   "source": [
    "from math import cos, cosh, tan,  exp, pi\n",
    "from numpy import sign\n",
    "\n",
    "\n",
    "delta = 10e-10\n",
    "\n",
    "def bisection(f,a,b,eps):\n",
    "    i = 0\n",
    "    while True:\n",
    "        i += 1\n",
    "        c =  a + (b-a)/2\n",
    "\n",
    "        if abs(a-b) < delta or abs(f(c)) <= eps:\n",
    "            break\n",
    "        elif f(b)*f(a) < 0:\n",
    "            b = c\n",
    "        else:\n",
    "            a = c\n",
    "\n",
    "    return a + (b-a)/2, i\n",
    "\n",
    "\n",
    "eps = 10e-10\n",
    "\n",
    "print(bisection(lambda x:cos(x)*cosh(x)-1,3/2*pi,2*pi, eps))\n",
    "print(bisection(lambda x: 1/x-tan(x) if x != 0 else 1 ,0,pi/2, eps))\n",
    "print(bisection(lambda x: 2**(-x)+exp(x)+2*cos(x)-6,1,3, eps))\n",
    "\n",
    "\n",
    "\n",
    "\n",
    "\n",
    "\n"
   ]
  },
  {
   "cell_type": "code",
   "execution_count": 116,
   "metadata": {},
   "outputs": [
    {
     "name": "stdout",
     "output_type": "stream",
     "text": [
      "(4.730040744847012, 50)\n",
      "(1.8293836016911693, 44)\n"
     ]
    }
   ],
   "source": [
    "def sieczne(f, a, b, eps):\n",
    "    max_no_iter = 10e5\n",
    "    cnt = 0 \n",
    "\n",
    "    while True:\n",
    "        f1, f2 = f(a), f(b)\n",
    "\n",
    "        x =  (b*f1 - a*f2) / (f1-f2)\n",
    "        \n",
    "        if abs(f(x)) < eps or cnt > max_no_iter:\n",
    "            return x, cnt\n",
    "\n",
    "        if f(x)*f(a)>0:\n",
    "            a, b = x , b\n",
    "            \n",
    "        elif f(x)*f(b)>0:\n",
    "            a, b = a, x\n",
    "        cnt += 1\n",
    "\n",
    "eps = 10e-10\n",
    "\n",
    "\n",
    "print(sieczne(lambda x:cos(x)*cosh(x)-1,3/2*pi,2*pi, eps))\n",
    "print(sieczne(lambda x: 1/x-tan(x) if x != 0 else 1 ,0,pi/2, eps))\n",
    "print(sieczne(lambda x: 2**(-x)+exp(x)+2*cos(x)-6,1,3, eps))\n",
    "\n",
    "    "
   ]
  },
  {
   "cell_type": "code",
   "execution_count": 114,
   "metadata": {},
   "outputs": [
    {
     "name": "stdout",
     "output_type": "stream",
     "text": [
      "(4.730040744849965, 15)\n",
      "(1.8293836021511782, 18)\n"
     ]
    }
   ],
   "source": [
    "\n",
    "from scipy.misc import derivative\n",
    "\n",
    "\n",
    "def styczne(f, a, eps):\n",
    "    max = 10e5\n",
    "    cnt = 0\n",
    "\n",
    "    while True:\n",
    "        cnt += 1\n",
    "\n",
    "        fa = f(a)\n",
    "\n",
    "        if abs(fa) < eps or cnt > max:\n",
    "            return a, cnt\n",
    "        \n",
    "        tmp = a\n",
    "        a -= fa/derivative(f,tmp)\n",
    "\n",
    "eps = 10e-10\n",
    "\n",
    "print(styczne(lambda x:cos(x)*cosh(x)-1,3/2*pi, eps))\n",
    "print(styczne(lambda x: 2**(-x)+exp(x)+2*cos(x)-6,1, eps))\n"
   ]
  }
 ],
 "metadata": {
  "interpreter": {
   "hash": "cc5f70855ac006f3de45a3cc3b9e7d8d53845e50458809cb162b0174266dec97"
  },
  "kernelspec": {
   "display_name": "Python 3.9.7 ('base')",
   "language": "python",
   "name": "python3"
  },
  "language_info": {
   "codemirror_mode": {
    "name": "ipython",
    "version": 3
   },
   "file_extension": ".py",
   "mimetype": "text/x-python",
   "name": "python",
   "nbconvert_exporter": "python",
   "pygments_lexer": "ipython3",
   "version": "3.9.7"
  },
  "orig_nbformat": 4
 },
 "nbformat": 4,
 "nbformat_minor": 2
}
